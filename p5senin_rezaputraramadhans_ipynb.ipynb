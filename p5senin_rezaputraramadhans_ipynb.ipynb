{
  "nbformat": 4,
  "nbformat_minor": 0,
  "metadata": {
    "colab": {
      "provenance": [],
      "authorship_tag": "ABX9TyO1MdvDO4rT1MTYGRmml07S",
      "include_colab_link": true
    },
    "kernelspec": {
      "name": "python3",
      "display_name": "Python 3"
    },
    "language_info": {
      "name": "python"
    }
  },
  "cells": [
    {
      "cell_type": "markdown",
      "metadata": {
        "id": "view-in-github",
        "colab_type": "text"
      },
      "source": [
        "<a href=\"https://colab.research.google.com/github/rezaramadan29/ST1101_2C1/blob/main/p5senin_rezaputraramadhans_ipynb.ipynb\" target=\"_parent\"><img src=\"https://colab.research.google.com/assets/colab-badge.svg\" alt=\"Open In Colab\"/></a>"
      ]
    },
    {
      "cell_type": "code",
      "execution_count": null,
      "metadata": {
        "colab": {
          "base_uri": "https://localhost:8080/"
        },
        "id": "vk9FzqMhAQG5",
        "outputId": "8fdc5218-6b91-4469-c998-8f48e35d33e1"
      },
      "outputs": [
        {
          "output_type": "stream",
          "name": "stdout",
          "text": [
            "Masukkan panjang sisi:2.5\n",
            "jadi luas persegi adalah 6.25\n"
          ]
        }
      ],
      "source": [
        "#Soal 1\n",
        "#Program menghitung luas persegi\n",
        "sisi = float(input(\"Masukkan panjang sisi:\"))\n",
        "luas_persegi = sisi * sisi\n",
        "print(\"jadi luas persegi adalah\", luas_persegi)"
      ]
    },
    {
      "cell_type": "code",
      "source": [
        "#Soal 2\n",
        "nama = str (input (\"masukkan nama : \"))\n",
        "nim = str (input(\"masukkan nim : \"))\n",
        "fakultas = str (input(\"masukkan fakultas : \"))\n",
        "jurusan = str (input(\"masukkan jurusan : \"))\n",
        "KotaAsal = str (input(\"masukkan Kota Asal : \"))\n",
        "Alamat = str (input(\"masukkan Alamat : \"))\n",
        "print(nama)\n",
        "print(nim)\n",
        "print(fakultas)\n",
        "print(jurusan)\n",
        "print(KotaAsal)\n"
      ],
      "metadata": {
        "colab": {
          "base_uri": "https://localhost:8080/"
        },
        "id": "_dpGDd8VAsIv",
        "outputId": "433011fe-5abf-4fb1-be18-f91889e128fa"
      },
      "execution_count": null,
      "outputs": [
        {
          "output_type": "stream",
          "name": "stdout",
          "text": [
            "masukkan nama : Reza Putra Ramadhan Simarmata\n",
            "masukkan nim : 2C1240067\n",
            "masukkan fakultas : Sains Dan Teknologi\n",
            "masukkan jurusan : Agribisnis\n",
            "masukkan Kota Asal : Pematang Siantar\n",
            "masukkan Alamat : Huta 1 Bukit Maraja\n",
            "Reza Putra Ramadhan Simarmata\n",
            "2C1240067\n",
            "Sains Dan Teknologi\n",
            "Agribisnis\n",
            "Pematang Siantar\n"
          ]
        }
      ]
    }
  ]
}