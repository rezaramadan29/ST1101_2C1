{
  "nbformat": 4,
  "nbformat_minor": 0,
  "metadata": {
    "colab": {
      "provenance": [],
      "include_colab_link": true
    },
    "kernelspec": {
      "name": "python3",
      "display_name": "Python 3"
    },
    "language_info": {
      "name": "python"
    }
  },
  "cells": [
    {
      "cell_type": "markdown",
      "metadata": {
        "id": "view-in-github",
        "colab_type": "text"
      },
      "source": [
        "<a href=\"https://colab.research.google.com/github/rezaramadan29/ST1101_2C1/blob/main/p8__rezaputraramadhanS_2C1240067__AGB.ipynb\" target=\"_parent\"><img src=\"https://colab.research.google.com/assets/colab-badge.svg\" alt=\"Open In Colab\"/></a>"
      ]
    },
    {
      "cell_type": "markdown",
      "source": [
        "**FUNDAMENTAL ARRAY**"
      ],
      "metadata": {
        "id": "wfgZxt5q_TzV"
      }
    },
    {
      "cell_type": "code",
      "execution_count": 1,
      "metadata": {
        "id": "9TB1ZwTr_DYz"
      },
      "outputs": [],
      "source": [
        "arr = [10, 20, 30, 40]"
      ]
    },
    {
      "cell_type": "code",
      "source": [
        "list_numbers[0] = [1, 2, 3, 4, 5]\n",
        "list_numbers[0]"
      ],
      "metadata": {
        "id": "Qye2YU0__OFZ",
        "colab": {
          "base_uri": "https://localhost:8080/"
        },
        "outputId": "fd7e3ca9-9aff-4219-b547-89e1b657e8b3"
      },
      "execution_count": 8,
      "outputs": [
        {
          "output_type": "execute_result",
          "data": {
            "text/plain": [
              "[1, 2, 3, 4, 5]"
            ]
          },
          "metadata": {},
          "execution_count": 8
        }
      ]
    },
    {
      "cell_type": "code",
      "source": [
        "list_numbers[0] = 100  # Mengubah elemen pertama menjadi 100\n",
        "list_numbers[0]"
      ],
      "metadata": {
        "id": "Fl3348wK_Rjh",
        "colab": {
          "base_uri": "https://localhost:8080/"
        },
        "outputId": "2766ddff-8ffe-46c8-f763-0d4b1a87b70b"
      },
      "execution_count": 7,
      "outputs": [
        {
          "output_type": "execute_result",
          "data": {
            "text/plain": [
              "100"
            ]
          },
          "metadata": {},
          "execution_count": 7
        }
      ]
    },
    {
      "cell_type": "markdown",
      "source": [
        "**MENDEKLARASIKAN ARRAY**"
      ],
      "metadata": {
        "id": "vu07k-Tj_cp9"
      }
    },
    {
      "cell_type": "code",
      "source": [
        "arr = [1, 2, 3, 4, 5]\n",
        "arr"
      ],
      "metadata": {
        "id": "Z7JTYURvCO49",
        "colab": {
          "base_uri": "https://localhost:8080/"
        },
        "outputId": "0876adba-be4b-4572-ebc7-96e04b2a1ca3"
      },
      "execution_count": 9,
      "outputs": [
        {
          "output_type": "execute_result",
          "data": {
            "text/plain": [
              "[1, 2, 3, 4, 5]"
            ]
          },
          "metadata": {},
          "execution_count": 9
        }
      ]
    },
    {
      "cell_type": "code",
      "source": [
        "data = [1, 2, 3, 'hello', 5.5]  # array dengan elemen tipe berbeda\n",
        "data"
      ],
      "metadata": {
        "id": "OKBRVSaA_f6u",
        "colab": {
          "base_uri": "https://localhost:8080/"
        },
        "outputId": "18f44ec8-f1f8-49f5-865a-f0d4a59cd424"
      },
      "execution_count": 10,
      "outputs": [
        {
          "output_type": "execute_result",
          "data": {
            "text/plain": [
              "[1, 2, 3, 'hello', 5.5]"
            ]
          },
          "metadata": {},
          "execution_count": 10
        }
      ]
    },
    {
      "cell_type": "code",
      "source": [
        "arr = [0] * 5  # Membuat array dengan 5 elemen, semua berisi 0\n",
        "arr"
      ],
      "metadata": {
        "id": "2b5ZTBRJ_isp",
        "colab": {
          "base_uri": "https://localhost:8080/"
        },
        "outputId": "de18fd76-74a3-41a8-b2e1-cda7fda44862"
      },
      "execution_count": 11,
      "outputs": [
        {
          "output_type": "execute_result",
          "data": {
            "text/plain": [
              "[0, 0, 0, 0, 0]"
            ]
          },
          "metadata": {},
          "execution_count": 11
        }
      ]
    },
    {
      "cell_type": "code",
      "source": [
        "arr = [10, 20, 30, 40]\n",
        "print(arr[0])  # Output: 10 (indeks pertama)\n",
        "print(arr[3])  # Output: 40 (indeks terakhir)"
      ],
      "metadata": {
        "colab": {
          "base_uri": "https://localhost:8080/"
        },
        "id": "GHWtWUHi_knC",
        "outputId": "955833aa-fabb-491c-a9b7-5d758728b3e9"
      },
      "execution_count": 12,
      "outputs": [
        {
          "output_type": "stream",
          "name": "stdout",
          "text": [
            "10\n",
            "40\n"
          ]
        }
      ]
    },
    {
      "cell_type": "markdown",
      "source": [
        "**PEMROSESAN SEKUENSIAL ARRAY**"
      ],
      "metadata": {
        "id": "fQEuwUc3_mrE"
      }
    },
    {
      "cell_type": "code",
      "source": [
        "arr = [10, 20, 30, 40, 50]\n",
        "for elemen in arr:\n",
        "    print(elemen)\n"
      ],
      "metadata": {
        "colab": {
          "base_uri": "https://localhost:8080/"
        },
        "id": "7ZE8ZrrE_qmV",
        "outputId": "b5093213-3273-445d-ff08-3c3005558e96"
      },
      "execution_count": null,
      "outputs": [
        {
          "output_type": "stream",
          "name": "stdout",
          "text": [
            "10\n",
            "20\n",
            "30\n",
            "40\n",
            "50\n"
          ]
        }
      ]
    },
    {
      "cell_type": "code",
      "source": [
        "total = 0\n",
        "for elemen in arr:\n",
        "    total += elemen\n",
        "print(total)  # Output: 150\n"
      ],
      "metadata": {
        "colab": {
          "base_uri": "https://localhost:8080/"
        },
        "id": "sWK3Hdb9_tzN",
        "outputId": "293b7916-7953-489c-93b8-37a8a1172900"
      },
      "execution_count": null,
      "outputs": [
        {
          "output_type": "stream",
          "name": "stdout",
          "text": [
            "150\n"
          ]
        }
      ]
    },
    {
      "cell_type": "code",
      "source": [
        "arr = [30, 45, 10, 20, 12, 7, 19, 13, 17, 2, 10, 27, 5, 29]\n",
        "\n",
        "nilai_maks = max(arr)\n",
        "print(nilai_maks)\n",
        "print(\"jadi rata rata nilai maksimum arr adalah\" , nilai_maks)\n",
        "\n",
        "nilai_min = min(arr)\n",
        "print(nilai_min)\n",
        "print(\"jadi nilai minimum arr adalah\" , nilai_min)\n",
        "\n",
        "penjumlahan = sum(arr)\n",
        "print(penjumlahan)\n",
        "print(\"hasil penjumlahan seluruh elemen arr adalah\", penjumlahan)\n",
        "\n",
        "jumlah_arr = len(arr)\n",
        "print(jumlah_arr)\n",
        "print(\"jadi jumlah seluruh elemen arr adalah\" , jumlah_arr)\n",
        "\n",
        "rata_rata = sum(arr)/len(arr)\n",
        "print(rata_rata)\n",
        "print(\"jadi rata-rata seluruh elemen arr adalah\", rata_rata)"
      ],
      "metadata": {
        "colab": {
          "base_uri": "https://localhost:8080/"
        },
        "id": "CozVEMoIYvoq",
        "outputId": "072aedef-57aa-4aa6-b4e9-b3b7233c3479"
      },
      "execution_count": 31,
      "outputs": [
        {
          "output_type": "stream",
          "name": "stdout",
          "text": [
            "45\n",
            "jadi rata rata nilai maksimum arr adalah 45\n",
            "2\n",
            "jadi nilai minimum arr adalah 2\n",
            "246\n",
            "hasil penjumlahan seluruh elemen arr adalah 246\n",
            "14\n",
            "jadi jumlah seluruh elemen arr adalah 14\n",
            "17.571428571428573\n",
            "jadi rata-rata seluruh elemen arr adalah 17.571428571428573\n"
          ]
        }
      ]
    },
    {
      "cell_type": "code",
      "source": [
        "#Soal 1 dengan bu sevinurafni\n",
        "S = [4, 1, -1, 10, 0, 12]\n",
        "\n",
        "D = int(input(\"Masukkan nilai D: \"))\n",
        "\n",
        "S = [x * D for x in S]\n",
        "\n",
        "print(\"Array setelah dikalikan dengan D:\", S)"
      ],
      "metadata": {
        "colab": {
          "base_uri": "https://localhost:8080/"
        },
        "id": "-78f7T6OZAQq",
        "outputId": "1a43f634-828e-48d5-c64a-ddb5e41f86d9"
      },
      "execution_count": 1,
      "outputs": [
        {
          "output_type": "stream",
          "name": "stdout",
          "text": [
            "Masukkan nilai D: 2\n",
            "Array setelah dikalikan dengan D: [8, 2, -2, 20, 0, 24]\n"
          ]
        }
      ]
    },
    {
      "cell_type": "code",
      "source": [
        "# Soal 2 dengan bu Sevinurafni\n",
        "T1 = [9, 12, 30, -1, 0, 4, -1, 3, 30, 14]\n",
        "nilai_terbesarT1 = max(T1)\n",
        "print (\"nilai terbesar dari T1 adalah\", nilai_terbesarT1)\n",
        "\n",
        "nilai_terkecilT1 = min(T1)\n",
        "print (\"nilai terkecil dari T1 adalah\", nilai_terkecilT1)\n",
        "\n",
        "T2 = [1, 3, 5, 8, -12, 90, 3, 5]\n",
        "nilai_terbesarT2 = max(T2)\n",
        "print (\"nilai terbesar dari T2 adalah\", nilai_terbesarT2)\n",
        "\n",
        "nilai_terkecilT2 = min(T2)\n",
        "print (\"nilai terkecil dari T2 adalah\", nilai_terkecilT2)"
      ],
      "metadata": {
        "id": "zaA0nvAQdApK",
        "outputId": "f085d8a2-5582-4496-eb83-b87449d058c5",
        "colab": {
          "base_uri": "https://localhost:8080/"
        }
      },
      "execution_count": 2,
      "outputs": [
        {
          "output_type": "stream",
          "name": "stdout",
          "text": [
            "nilai terbesar dari T1 adalah 30\n",
            "nilai terkecil dari T1 adalah -1\n",
            "nilai terbesar dari T2 adalah 90\n",
            "nilai terkecil dari T2 adalah -12\n"
          ]
        }
      ]
    }
  ]
}